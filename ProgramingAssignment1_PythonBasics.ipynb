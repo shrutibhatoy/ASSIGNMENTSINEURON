{
 "cells": [
  {
   "cell_type": "code",
   "execution_count": 10,
   "id": "5577789f",
   "metadata": {},
   "outputs": [
    {
     "name": "stdout",
     "output_type": "stream",
     "text": [
      "Hello Python\n"
     ]
    }
   ],
   "source": [
    "#1. Write a Python program to print \"Hello Python\"\n",
    "a=\"Hello Python\"\n",
    "print(a)\n"
   ]
  },
  {
   "cell_type": "code",
   "execution_count": 4,
   "id": "3a8abde8",
   "metadata": {},
   "outputs": [
    {
     "name": "stdout",
     "output_type": "stream",
     "text": [
      "enter a number30\n",
      "enter second number15\n",
      "enter 1 if you want to add the numbers\n",
      "enter 2 if you want to divide the numbers\n",
      "2\n",
      "30.0 / 15.0 = 2.0\n"
     ]
    }
   ],
   "source": [
    "#2. Write a Python program to do arithmetical operations addition and division.\n",
    "num1=float(input(\"enter a number\"))\n",
    "num2=float(input(\"enter second number\"))\n",
    "print(\"enter 1 if you want to add the numbers\")\n",
    "print(\"enter 2 if you want to divide the numbers\")\n",
    "oprtr=int(input())\n",
    "if oprtr==1:\n",
    "    print(num1,\"+\",num2,\"=\",num1+num2)\n",
    "elif oprtr==2:\n",
    "    print(num1,\"/\",num2,\"=\",num1/num2)\n",
    "else:\n",
    "    print(\"invalid input\")"
   ]
  },
  {
   "cell_type": "code",
   "execution_count": 6,
   "id": "91d9a28d",
   "metadata": {},
   "outputs": [
    {
     "name": "stdout",
     "output_type": "stream",
     "text": [
      "enter the length of first side of triangle45\n",
      "enter the length of second side triangle5\n",
      "enter the length of third side triangle56\n",
      "Area of the Triangle is 462.7281952896855 square units\n"
     ]
    }
   ],
   "source": [
    "#3. Write a Python program to find the area of a triangle\n",
    "s1=float(input(\"enter the length of first side of triangle\"))\n",
    "s2=float(input(\"enter the length of second side triangle\"))\n",
    "s3=float(input(\"enter the length of third side triangle\"))\n",
    "s=(s1+s2+s3)/3\n",
    "area=(s*(s-s1)*(s-s2)*(s-s3))**0.5\n",
    "print(\"Area of the Triangle is\",area,\"square units.\")"
   ]
  },
  {
   "cell_type": "code",
   "execution_count": 7,
   "id": "89bf37de",
   "metadata": {},
   "outputs": [
    {
     "name": "stdout",
     "output_type": "stream",
     "text": [
      "Enter value of x: 10\n",
      "Enter value of y: 20\n",
      "The value of x after swapping: 20\n",
      "The value of y after swapping: 10\n"
     ]
    }
   ],
   "source": [
    "#Write a Python program to swap two variables.\n",
    "x=input('Enter value of x: ')\n",
    "y=input('Enter value of y: ')\n",
    "# create a temporary variable and swap the values\n",
    "temp=x\n",
    "x=y\n",
    "y=temp\n",
    "print('The value of x after swapping: {}'.format(x))\n",
    "print('The value of y after swapping: {}'.format(y))"
   ]
  },
  {
   "cell_type": "code",
   "execution_count": 9,
   "id": "0eff7c9b",
   "metadata": {},
   "outputs": [
    {
     "name": "stdout",
     "output_type": "stream",
     "text": [
      "15\n"
     ]
    }
   ],
   "source": [
    "#Write a Python program to generate a random number.\n",
    "import random\n",
    "print(random.randint(10,20)) #to generate a random integer btw 10 & 20."
   ]
  }
 ],
 "metadata": {
  "kernelspec": {
   "display_name": "Python 3 (ipykernel)",
   "language": "python",
   "name": "python3"
  },
  "language_info": {
   "codemirror_mode": {
    "name": "ipython",
    "version": 3
   },
   "file_extension": ".py",
   "mimetype": "text/x-python",
   "name": "python",
   "nbconvert_exporter": "python",
   "pygments_lexer": "ipython3",
   "version": "3.9.12"
  }
 },
 "nbformat": 4,
 "nbformat_minor": 5
}
