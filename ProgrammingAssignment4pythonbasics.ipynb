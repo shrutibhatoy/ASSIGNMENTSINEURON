{
 "cells": [
  {
   "cell_type": "code",
   "execution_count": 2,
   "id": "819bb9bc-f10e-43e5-8c0a-5fe295db30b3",
   "metadata": {},
   "outputs": [
    {
     "name": "stdin",
     "output_type": "stream",
     "text": [
      "Enter a number 5\n"
     ]
    },
    {
     "name": "stdout",
     "output_type": "stream",
     "text": [
      "120\n"
     ]
    }
   ],
   "source": [
    "#1. Write a Python Program to Find the Factorial of a Number?\n",
    "a=int(input(\"Enter a number\"))\n",
    "if a==1 or a==0:\n",
    "    print(\"Factorial of\",a,\"is 1.\")\n",
    "elif a>1:\n",
    "    i=1\n",
    "    fact=1\n",
    "    while i<=a:\n",
    "        fact=fact*i\n",
    "        i=i+1\n",
    "    print(fact)"
   ]
  },
  {
   "cell_type": "code",
   "execution_count": 3,
   "id": "60462f2e-a13f-4adc-a2ef-e66cf46ffb98",
   "metadata": {},
   "outputs": [
    {
     "name": "stdin",
     "output_type": "stream",
     "text": [
      "enter a number of which you want to see the multiplication table  2\n"
     ]
    },
    {
     "name": "stdout",
     "output_type": "stream",
     "text": [
      "2  times  1  is  2\n",
      "2  times  2  is  4\n",
      "2  times  3  is  6\n",
      "2  times  4  is  8\n",
      "2  times  5  is  10\n",
      "2  times  6  is  12\n",
      "2  times  7  is  14\n",
      "2  times  8  is  16\n",
      "2  times  9  is  18\n",
      "2  times  10  is  20\n"
     ]
    }
   ],
   "source": [
    "#2. Write a Python Program to Display the multiplication Table?\n",
    "a=int(input(\"enter a number of which you want to see the multiplication table \"))\n",
    "for i in range(1,11):\n",
    "    print(a,\" times \",i,\" is \",a*i)"
   ]
  },
  {
   "cell_type": "code",
   "execution_count": 6,
   "id": "0173f55d-0af4-4dde-b4aa-cc72c99f5fd8",
   "metadata": {},
   "outputs": [
    {
     "name": "stdin",
     "output_type": "stream",
     "text": [
      "How many terms do you wish to see?  5\n"
     ]
    },
    {
     "name": "stdout",
     "output_type": "stream",
     "text": [
      "Fibonacci sequence:\n",
      "0\n",
      "1\n",
      "1\n",
      "2\n",
      "3\n"
     ]
    }
   ],
   "source": [
    "#3. Write a Python Program to Print the Fibonacci sequence?\n",
    "N=int(input(\"How many terms do you wish to see? \"))\n",
    "n1,n2=0,1\n",
    "count=0\n",
    "if N<= 0:\n",
    "    print(\"Please enter a positive integer\")\n",
    "elif N == 1:\n",
    "    print(\"Fibonacci sequence upto\",N,\":\")\n",
    "    print(n1)\n",
    "# generate fibonacci sequence\n",
    "else:\n",
    "    print(\"Fibonacci sequence:\")\n",
    "    while count < N:\n",
    "        print(n1)\n",
    "        nth = n1 + n2\n",
    "        n1 = n2\n",
    "        n2 = nth\n",
    "        count += 1"
   ]
  },
  {
   "cell_type": "code",
   "execution_count": 11,
   "id": "f3722dce-80c1-4ec6-917a-b10bdcd12ca3",
   "metadata": {},
   "outputs": [
    {
     "name": "stdin",
     "output_type": "stream",
     "text": [
      "enter a number 153\n"
     ]
    },
    {
     "name": "stdout",
     "output_type": "stream",
     "text": [
      "153 is an Armstrong number.\n"
     ]
    }
   ],
   "source": [
    "#4. Write a Python Program to Check Armstrong Number?\n",
    "num=int(input(\"enter a number\"))\n",
    "order = len(str(num))\n",
    "sum = 0\n",
    "temp = num\n",
    "while temp > 0:\n",
    "    digit = temp % 10\n",
    "    sum += digit ** order\n",
    "    temp //= 10\n",
    "# display the result\n",
    "if num == sum:\n",
    "    print(num,\"is an Armstrong number.\")\n",
    "else:\n",
    "    print(num,\"is not an Armstrong number.\")"
   ]
  },
  {
   "cell_type": "code",
   "execution_count": 2,
   "id": "45286307-1c59-4e97-890c-67d2a07a2318",
   "metadata": {},
   "outputs": [
    {
     "name": "stdin",
     "output_type": "stream",
     "text": [
      "enter a number 100\n",
      "enter a number 200\n"
     ]
    },
    {
     "name": "stdout",
     "output_type": "stream",
     "text": [
      "153\n"
     ]
    }
   ],
   "source": [
    "#5. Write a Python Program to Find Armstrong Number in an Interval?\n",
    "lower=int(input(\"enter a number\"))\n",
    "upper=int(input(\"enter a number\"))\n",
    "for num in range(lower, upper + 1):\n",
    "    order = len(str(num))\n",
    "    sum = 0\n",
    "    temp = num\n",
    "    while temp > 0:\n",
    "        digit = temp % 10\n",
    "        sum += digit ** order\n",
    "        temp //= 10\n",
    "    if num == sum:\n",
    "        print(num)\n"
   ]
  },
  {
   "cell_type": "code",
   "execution_count": 3,
   "id": "0065ac17-31c9-4bf8-8827-913b96e9f3ab",
   "metadata": {},
   "outputs": [
    {
     "name": "stdin",
     "output_type": "stream",
     "text": [
      "upto how many terms? 2\n"
     ]
    }
   ],
   "source": [
    "#6. Write a Python Program to Find the Sum of N Natural Numbers?\n",
    "N=int(input(\"upto how many terms?\"))\n",
    "sum=0\n",
    "for i in range(1,N+1):\n",
    "    sum+=i"
   ]
  },
  {
   "cell_type": "code",
   "execution_count": null,
   "id": "3ff16944-dec2-4bba-9205-0728d7e3c066",
   "metadata": {},
   "outputs": [],
   "source": []
  }
 ],
 "metadata": {
  "kernelspec": {
   "display_name": "Python 3 (ipykernel)",
   "language": "python",
   "name": "python3"
  },
  "language_info": {
   "codemirror_mode": {
    "name": "ipython",
    "version": 3
   },
   "file_extension": ".py",
   "mimetype": "text/x-python",
   "name": "python",
   "nbconvert_exporter": "python",
   "pygments_lexer": "ipython3",
   "version": "3.10.6"
  }
 },
 "nbformat": 4,
 "nbformat_minor": 5
}
