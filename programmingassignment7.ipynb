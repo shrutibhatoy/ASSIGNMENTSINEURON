{
 "cells": [
  {
   "cell_type": "code",
   "execution_count": null,
   "id": "4b2c246f-1b41-47aa-99e2-465b3828a63d",
   "metadata": {},
   "outputs": [],
   "source": [
    "#1 Write a Python Program to find sum of array?"
   ]
  },
  {
   "cell_type": "code",
   "execution_count": 2,
   "id": "e16ef1bc-ba6d-40b7-b673-475bdf3cc19a",
   "metadata": {},
   "outputs": [
    {
     "name": "stdout",
     "output_type": "stream",
     "text": [
      "28\n"
     ]
    }
   ],
   "source": [
    "arr={1,4,5,7,8,3}\n",
    "sum=0\n",
    "for i in arr:\n",
    "    sum=sum+i\n",
    "print(sum)    "
   ]
  },
  {
   "cell_type": "code",
   "execution_count": null,
   "id": "43575940-da66-4c0a-a555-98b87586785a",
   "metadata": {},
   "outputs": [],
   "source": [
    "#2 Write a Python Program to find largest element in an array?"
   ]
  },
  {
   "cell_type": "code",
   "execution_count": 7,
   "id": "d13742e3-18d6-4ce9-badd-7df571f8ce18",
   "metadata": {},
   "outputs": [
    {
     "name": "stdout",
     "output_type": "stream",
     "text": [
      "Largest in given array  9808\n"
     ]
    }
   ],
   "source": [
    "def largest(arr, n):\n",
    "\tmax = arr[0]\n",
    "\tfor i in range(1,n):\n",
    "\t\tif arr[i]>max:\n",
    "\t\t\tmax=arr[i]\n",
    "\treturn max\n",
    "#drivers code\n",
    "arr = [10,324,45,90,9808]\n",
    "n = len(arr)\n",
    "Ans = largest(arr, n)\n",
    "print(\"Largest in given array \", Ans)"
   ]
  },
  {
   "cell_type": "code",
   "execution_count": null,
   "id": "d91c8b26-abb0-4919-810b-695478aebd02",
   "metadata": {},
   "outputs": [],
   "source": [
    "#3 Write a Python Program for array rotation?"
   ]
  },
  {
   "cell_type": "code",
   "execution_count": 8,
   "id": "d80a0343-2bd5-40d4-9c6d-5e1138e8041e",
   "metadata": {},
   "outputs": [
    {
     "name": "stdout",
     "output_type": "stream",
     "text": [
      "3 4 5 6 7 1 2 "
     ]
    }
   ],
   "source": [
    "#Function to left rotate arr[] of size n by d*/\n",
    "def leftRotate(arr, d, n):\n",
    "\tfor i in range(d):\n",
    "\t\tleftRotatebyOne(arr, n)\n",
    "        \n",
    "#Function to left Rotate arr[] of size n by 1*/\n",
    "def leftRotatebyOne(arr, n):\n",
    "\ttemp = arr[0]\n",
    "\tfor i in range(n-1):\n",
    "\t\tarr[i] = arr[i+1]\n",
    "\tarr[n-1] = temp\n",
    "\t\t\n",
    "# utility function to print an array */\n",
    "def printArray(arr,size):\n",
    "\tfor i in range(size):\n",
    "\t\tprint (\"%d\"% arr[i],end=\" \")\n",
    "\n",
    "# Driver program to test above functions */\n",
    "arr = [1, 2, 3, 4, 5, 6, 7]\n",
    "leftRotate(arr, 2, 7)\n",
    "printArray(arr, 7)\n"
   ]
  },
  {
   "cell_type": "code",
   "execution_count": null,
   "id": "ae216be7-9545-45e7-89c9-786a9cb08ec8",
   "metadata": {},
   "outputs": [],
   "source": [
    "#4 Write a Python Program to Split the array and add the first part to the end?"
   ]
  },
  {
   "cell_type": "code",
   "execution_count": 9,
   "id": "3fa71cd6-ff45-4fbc-892c-6d022cb5cdf3",
   "metadata": {},
   "outputs": [
    {
     "name": "stdout",
     "output_type": "stream",
     "text": [
      "5 6 52 36 12 10 "
     ]
    }
   ],
   "source": [
    "def splitArr(arr, n, k):\n",
    "\tfor i in range(0, k):\n",
    "\t\tx = arr[0]\n",
    "\t\tfor j in range(0, n-1):\n",
    "\t\t\tarr[j] = arr[j + 1]\n",
    "\n",
    "\t\tarr[n-1] = x\n",
    "        \n",
    "# main\n",
    "arr = [12, 10, 5, 6, 52, 36]\n",
    "n = len(arr)\n",
    "position = 2\n",
    "\n",
    "splitArr(arr, n, position)\n",
    "\n",
    "for i in range(0, n):\n",
    "\tprint(arr[i], end=' ')"
   ]
  },
  {
   "cell_type": "code",
   "execution_count": null,
   "id": "45c0619f-4607-4590-bcce-077e0f9bda45",
   "metadata": {},
   "outputs": [],
   "source": [
    "#5 Write a Python Program to check if given array is Monotonic?\n"
   ]
  },
  {
   "cell_type": "code",
   "execution_count": null,
   "id": "64d8cf4a-47c4-4df6-ae09-96b38e07802e",
   "metadata": {},
   "outputs": [],
   "source": [
    "def isMonotonic(A):\n",
    "\tx, y = [], []\n",
    "\tx.extend(A)\n",
    "\ty.extend(A)\n",
    "\tx.sort()\n",
    "\ty.sort(reverse=True)\n",
    "\tif(x == A or y == A):\n",
    "\t\treturn True\n",
    "\treturn False\n",
    "\n",
    "# Driver program\n",
    "A = [6, 5, 4, 4]\n",
    "\n",
    "# Print required result\n",
    "print(isMonotonic(A))\n"
   ]
  }
 ],
 "metadata": {
  "kernelspec": {
   "display_name": "Python 3 (ipykernel)",
   "language": "python",
   "name": "python3"
  },
  "language_info": {
   "codemirror_mode": {
    "name": "ipython",
    "version": 3
   },
   "file_extension": ".py",
   "mimetype": "text/x-python",
   "name": "python",
   "nbconvert_exporter": "python",
   "pygments_lexer": "ipython3",
   "version": "3.10.6"
  }
 },
 "nbformat": 4,
 "nbformat_minor": 5
}
