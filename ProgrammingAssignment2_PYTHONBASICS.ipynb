{
 "cells": [
  {
   "cell_type": "code",
   "execution_count": 1,
   "id": "2cf9a829",
   "metadata": {},
   "outputs": [
    {
     "name": "stdout",
     "output_type": "stream",
     "text": [
      "Enter the value in kilometres3355\n",
      "3355.0 kilometres= 2084.70034916 miles\n"
     ]
    }
   ],
   "source": [
    "#1. Write a Python program to convert kilometers to miles.\n",
    "kil=float(input(\"Enter the value in kilometres\"))\n",
    "mil=kil*0.621371192\n",
    "print(kil,\"kilometres=\",mil,\"miles\")"
   ]
  },
  {
   "cell_type": "code",
   "execution_count": 2,
   "id": "70dd136d",
   "metadata": {},
   "outputs": [
    {
     "name": "stdout",
     "output_type": "stream",
     "text": [
      "Enter the temperature in celcius1\n",
      "1.0 degree celcius= 33.8 Fahrenheits\n"
     ]
    }
   ],
   "source": [
    "#2. Write a Python program to convert Celsius to Fahrenheit.\n",
    "cel=float(input(\"Enter the temperature in celcius\"))\n",
    "far=cel*9/5+32\n",
    "print(cel,\"degree celcius=\",far,\"Fahrenheits\")"
   ]
  },
  {
   "cell_type": "code",
   "execution_count": 3,
   "id": "1471ba4d",
   "metadata": {},
   "outputs": [
    {
     "name": "stdout",
     "output_type": "stream",
     "text": [
      "Enter year:2022\n",
      "Enter month:11\n",
      "   November 2022\n",
      "Mo Tu We Th Fr Sa Su\n",
      "    1  2  3  4  5  6\n",
      " 7  8  9 10 11 12 13\n",
      "14 15 16 17 18 19 20\n",
      "21 22 23 24 25 26 27\n",
      "28 29 30\n",
      "\n"
     ]
    }
   ],
   "source": [
    "#3. Write a Python program to display calendar.\n",
    "import calendar\n",
    "yy=int(input(\"Enter year:\"))\n",
    "mm=int(input(\"Enter month:\"))\n",
    "# display the calendar\n",
    "print(calendar.month(yy,mm))"
   ]
  },
  {
   "cell_type": "code",
   "execution_count": 1,
   "id": "8d53d15c",
   "metadata": {},
   "outputs": [
    {
     "name": "stdout",
     "output_type": "stream",
     "text": [
      "For the Quadratic equation ax^2+bx+c, Enter the values of a,b and c\n",
      "a2\n",
      "b6\n",
      "c3\n",
      "There are 2 roots: (-0.6339745962155614, 'and', -2.3660254037844384)\n"
     ]
    }
   ],
   "source": [
    "#4.Write a Python program to solve quadratic equation.\n",
    "from math import sqrt\n",
    "print(\"For the Quadratic equation ax^2+bx+c, Enter the values of a,b and c\")\n",
    "a=float(input(\"a\"))\n",
    "b=float(input(\"b\"))\n",
    "c=float(input(\"c\"))\n",
    "d=b**2-4*a*c\n",
    "if a==0:\n",
    "    print(\"value of a can't be 0\")\n",
    "    exit()\n",
    "elif d>0:\n",
    "    num_roots = 2\n",
    "    x1=(((-b)+sqrt(d))/(2*a))     \n",
    "    x2=(((-b)-sqrt(d))/(2*a))\n",
    "    print(\"There are 2 roots:\",(x1,\"and\", x2))\n",
    "elif d==0:\n",
    "    num_roots=1\n",
    "    x=(-b)/2*a\n",
    "    print(\"There is one root:\",x)\n",
    "else:\n",
    "    num_roots=0\n",
    "    print(\"No real roots, discriminant<0.\")\n",
    "    exit()\n"
   ]
  },
  {
   "cell_type": "code",
   "execution_count": 3,
   "id": "2f7da903",
   "metadata": {},
   "outputs": [
    {
     "name": "stdout",
     "output_type": "stream",
     "text": [
      "Enter value of x45\n",
      "Enter value of y78\n",
      "Before swapping: \n",
      "Value of x: 45 and y: 78\n",
      "After swapping:\n",
      "Value of x: 78 and y: 45\n"
     ]
    }
   ],
   "source": [
    "#5. Write a Python program to swap two variables without temp variable.\n",
    "x=input(\"Enter value of x\")\n",
    "y=input(\"Enter value of y\")\n",
    "print (\"Before swapping: \")\n",
    "print(\"Value of x:\",x,\"and y:\",y)\n",
    "x,y=y,x \n",
    "print(\"After swapping:\")\n",
    "print(\"Value of x:\",x,\"and y:\",y)"
   ]
  }
 ],
 "metadata": {
  "kernelspec": {
   "display_name": "Python 3 (ipykernel)",
   "language": "python",
   "name": "python3"
  },
  "language_info": {
   "codemirror_mode": {
    "name": "ipython",
    "version": 3
   },
   "file_extension": ".py",
   "mimetype": "text/x-python",
   "name": "python",
   "nbconvert_exporter": "python",
   "pygments_lexer": "ipython3",
   "version": "3.9.12"
  }
 },
 "nbformat": 4,
 "nbformat_minor": 5
}
