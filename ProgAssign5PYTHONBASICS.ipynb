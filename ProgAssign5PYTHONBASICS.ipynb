{
 "cells": [
  {
   "cell_type": "code",
   "execution_count": 4,
   "id": "6a7844d5-c66e-47e9-8c28-fc9592679164",
   "metadata": {},
   "outputs": [
    {
     "name": "stdin",
     "output_type": "stream",
     "text": [
      "Enter first number:  12\n",
      "Enter second number:  15\n"
     ]
    },
    {
     "name": "stdout",
     "output_type": "stream",
     "text": [
      "LCM of 12 and 15 is 60\n"
     ]
    }
   ],
   "source": [
    "#1. Write a Python Program to Find LCM?\n",
    "a=int(input(\"Enter first number: \"))\n",
    "b=int(input(\"Enter second number: \"))\n",
    "n=max(a,b)\n",
    "while True:\n",
    "    if (n%a==0) and (n%b==0):\n",
    "        print(\"LCM of\",a,\"and\",b,\"is\",n)\n",
    "        break\n",
    "    else:\n",
    "        n+=1\n",
    "        "
   ]
  },
  {
   "cell_type": "code",
   "execution_count": 9,
   "id": "05214d1e-264a-498d-b8ca-e529a710dc13",
   "metadata": {},
   "outputs": [
    {
     "name": "stdin",
     "output_type": "stream",
     "text": [
      "Enter first number:  5382\n",
      "Enter second number:  48\n"
     ]
    },
    {
     "name": "stdout",
     "output_type": "stream",
     "text": [
      "HCF of 5382 and 48 is: 6\n"
     ]
    }
   ],
   "source": [
    "#2. Write a Python Program to Find HCF?\n",
    "a=int(input(\"Enter first number: \"))\n",
    "b=int(input(\"Enter second number: \"))\n",
    "n=min(a,b)\n",
    "for i in range(n,0,-1):\n",
    "    if (a%i==0) and (b%i==0):\n",
    "        print(\"HCF of\",a,\"and\",b,\"is:\",i)\n",
    "        break\n",
    "    "
   ]
  },
  {
   "cell_type": "code",
   "execution_count": 12,
   "id": "1c0b60c8-f577-473a-873b-65f85b691156",
   "metadata": {},
   "outputs": [
    {
     "name": "stdin",
     "output_type": "stream",
     "text": [
      "Enter a value 34\n"
     ]
    },
    {
     "name": "stdout",
     "output_type": "stream",
     "text": [
      "The decimal value of 34 is:\n",
      "0b100010 in binary.\n",
      "0o42 in octal.\n",
      "0x22 in hexadecimal.\n"
     ]
    }
   ],
   "source": [
    "#3. Write a Python Program to Convert Decimal to Binary, Octal and Hexadecimal?\n",
    "dec=int(input(\"Enter a value\"))\n",
    "print(\"The decimal value of\", dec, \"is:\")\n",
    "print(bin(dec), \"in binary.\")\n",
    "print(oct(dec), \"in octal.\")\n",
    "print(hex(dec), \"in hexadecimal.\")"
   ]
  },
  {
   "cell_type": "code",
   "execution_count": 19,
   "id": "a5b73f4e-952b-4935-86c2-dc75bb8bc757",
   "metadata": {},
   "outputs": [
    {
     "name": "stdin",
     "output_type": "stream",
     "text": [
      "Enter a single Character a\n"
     ]
    },
    {
     "name": "stdout",
     "output_type": "stream",
     "text": [
      "The ASCII value of a is 97\n"
     ]
    }
   ],
   "source": [
    "#4. Write a Python Program To Find ASCII value of a character?\n",
    "c=input(\"Enter a single Character\")\n",
    "print(\"The ASCII value of \"+c+\" is\",ord(c))"
   ]
  },
  {
   "cell_type": "code",
   "execution_count": null,
   "id": "5e26cfcd-dd2b-4fd0-8fa3-04315e465d1e",
   "metadata": {},
   "outputs": [
    {
     "name": "stdin",
     "output_type": "stream",
     "text": [
      "Enter a number:  4\n",
      "Enter a number:  5\n"
     ]
    }
   ],
   "source": [
    "#5. Write a Python Program to Make a Simple Calculator with 4 basic mathematical operations?\n",
    "a=float(input(\"Enter first number: \"))\n",
    "b=float(input(\"Enter second number: \"))\n",
    "op=int(input(\"Enter:\\n 1 to Add \\n 2 to subtract \\n 3 to multiply \\n 4 to divide\"))\n",
    "if op==1:\n",
    "    print(a,\"+\",b,\"=\",a+b)\n",
    "elif op==2:\n",
    "    print(a,\"-\",b,\"=\",a-b) \n",
    "elif op==3:\n",
    "    print(a,\"*\",b,\"=\",a*b)  \n",
    "elif op==4:\n",
    "    print(a,\"/\",b,\"=\",a/b)   \n",
    "else:\n",
    "    print(\"invalid input\")\n"
   ]
  },
  {
   "cell_type": "markdown",
   "id": "4f866579-f12a-43aa-bb34-d46967240b39",
   "metadata": {},
   "source": [
    "#### "
   ]
  }
 ],
 "metadata": {
  "kernelspec": {
   "display_name": "Python 3 (ipykernel)",
   "language": "python",
   "name": "python3"
  },
  "language_info": {
   "codemirror_mode": {
    "name": "ipython",
    "version": 3
   },
   "file_extension": ".py",
   "mimetype": "text/x-python",
   "name": "python",
   "nbconvert_exporter": "python",
   "pygments_lexer": "ipython3",
   "version": "3.10.6"
  }
 },
 "nbformat": 4,
 "nbformat_minor": 5
}
